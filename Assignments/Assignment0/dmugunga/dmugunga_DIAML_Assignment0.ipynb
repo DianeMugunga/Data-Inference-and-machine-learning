{
 "cells": [
  {
   "cell_type": "code",
   "execution_count": null,
   "id": "2b5bc638",
   "metadata": {},
   "outputs": [],
   "source": [
    "import math"
   ]
  },
  {
   "cell_type": "code",
   "execution_count": 1,
   "id": "b2b974b8",
   "metadata": {},
   "outputs": [],
   "source": [
    "## This is my first assignment and my very first time using Anaconda\n",
    "\n",
    "### Constants declaration(pi, Euler's constant (e) and the Golden Ratio (phi)) and assigning values"
   ]
  },
  {
   "cell_type": "code",
   "execution_count": 2,
   "id": "1e17933f",
   "metadata": {},
   "outputs": [
    {
     "name": "stdout",
     "output_type": "stream",
     "text": [
      "Hello Data Inference and Applied Machine Learning\n"
     ]
    }
   ],
   "source": [
    "print(\"Hello Data Inference and Applied Machine Learning\")"
   ]
  },
  {
   "cell_type": "markdown",
   "id": "386c6552",
   "metadata": {},
   "source": [
    "# pi declaration "
   ]
  },
  {
   "cell_type": "code",
   "execution_count": 5,
   "id": "e4386fb2",
   "metadata": {},
   "outputs": [
    {
     "name": "stdout",
     "output_type": "stream",
     "text": [
      "3.141592653589793\n"
     ]
    }
   ],
   "source": [
    "pi=math.pi # this is defining pi constant and assigning its value\n",
    "pi"
   ]
  },
  {
   "cell_type": "code",
   "execution_count": 19,
   "id": "1fb87eea",
   "metadata": {},
   "outputs": [
    {
     "name": "stdout",
     "output_type": "stream",
     "text": [
      "2.718281828459045\n"
     ]
    },
    {
     "data": {
      "text/plain": [
       "'Rwanda'"
      ]
     },
     "execution_count": 19,
     "metadata": {},
     "output_type": "execute_result"
    }
   ],
   "source": [
    "e=math.e # this is defining Euler's number and assigning its value\n",
    "e"
   ]
  },
  {
   "cell_type": "code",
   "execution_count": 16,
   "id": "8d3b695c",
   "metadata": {},
   "outputs": [
    {
     "data": {
      "text/plain": [
       "1.618033988749895"
      ]
     },
     "execution_count": 16,
     "metadata": {},
     "output_type": "execute_result"
    }
   ],
   "source": [
    "phi=(1+math.sqrt(5))/2 # this is defining phi constant and assigning its value\n",
    "phi"
   ]
  },
  {
   "cell_type": "code",
   "execution_count": 17,
   "id": "f4bf00a1",
   "metadata": {},
   "outputs": [],
   "source": [
    "sum=pi+e+phi # calculating the the sum of the three constants "
   ]
  },
  {
   "cell_type": "code",
   "execution_count": 18,
   "id": "7ef6473c",
   "metadata": {},
   "outputs": [
    {
     "name": "stdout",
     "output_type": "stream",
     "text": [
      "The sum of the three famous mathematical constants is =  7.477908470798733\n"
     ]
    }
   ],
   "source": [
    "print (\"The sum of the three famous mathematical constants is = \", sum)"
   ]
  }
 ],
 "metadata": {
  "kernelspec": {
   "display_name": "Python 3 (ipykernel)",
   "language": "python",
   "name": "python3"
  },
  "language_info": {
   "codemirror_mode": {
    "name": "ipython",
    "version": 3
   },
   "file_extension": ".py",
   "mimetype": "text/x-python",
   "name": "python",
   "nbconvert_exporter": "python",
   "pygments_lexer": "ipython3",
   "version": "3.11.4"
  }
 },
 "nbformat": 4,
 "nbformat_minor": 5
}
